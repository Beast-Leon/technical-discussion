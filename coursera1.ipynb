{
  "nbformat": 4,
  "nbformat_minor": 0,
  "metadata": {
    "colab": {
      "name": "coursera1.ipynb",
      "provenance": [],
      "collapsed_sections": [],
      "authorship_tag": "ABX9TyOxfodeNriw0l7bwZf6Mmvf",
      "include_colab_link": true
    },
    "kernelspec": {
      "name": "python3",
      "display_name": "Python 3"
    },
    "language_info": {
      "name": "python"
    }
  },
  "cells": [
    {
      "cell_type": "markdown",
      "metadata": {
        "id": "view-in-github",
        "colab_type": "text"
      },
      "source": [
        "<a href=\"https://colab.research.google.com/github/Beast-Leon/technical-discussion/blob/main/coursera1.ipynb\" target=\"_parent\"><img src=\"https://colab.research.google.com/assets/colab-badge.svg\" alt=\"Open In Colab\"/></a>"
      ]
    },
    {
      "cell_type": "markdown",
      "source": [
        "# Coursera Project"
      ],
      "metadata": {
        "id": "9inzICq_PkjM"
      }
    },
    {
      "cell_type": "markdown",
      "source": [
        "### This is a python file for the coursera course, Cloud Computing Foundations Week 2 project. I am happy to share this with you guys."
      ],
      "metadata": {
        "id": "0BV7iXmmL5oT"
      }
    },
    {
      "cell_type": "code",
      "source": [
        "def hello():\n",
        "  print(\"hello\")\n",
        "hello()"
      ],
      "metadata": {
        "id": "nPPsDF75MCPq"
      },
      "execution_count": null,
      "outputs": []
    },
    {
      "cell_type": "markdown",
      "source": [
        "### Here are my three goals\n",
        "* One: Familiar with cloud computing\n",
        "* Second: Find a good Internship\n",
        "* Third: Find a good job thereafter."
      ],
      "metadata": {
        "id": "8S6CZHimP1z7"
      }
    },
    {
      "cell_type": "code",
      "source": [
        ""
      ],
      "metadata": {
        "id": "NkQy4e2aP9Tc"
      },
      "execution_count": null,
      "outputs": []
    }
  ]
}